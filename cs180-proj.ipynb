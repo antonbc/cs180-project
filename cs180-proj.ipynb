{
 "cells": [
  {
   "cell_type": "code",
   "execution_count": 4,
   "id": "fcb4f3f5-52ea-4d9d-a3e0-1429f0d78be1",
   "metadata": {},
   "outputs": [],
   "source": [
    "import numpy as np\n",
    "\n",
    "# for testing like opening an image\n",
    "from PIL import Image\n",
    "\n",
    "import torch\n",
    "import torch.nn as nn\n",
    "import torch.nn.functional as F\n",
    "import torch.optim as optim\n",
    "import torchvision\n",
    "import torchvision.transforms as transforms\n",
    "from torch.utils.data import DataLoader"
   ]
  },
  {
   "cell_type": "code",
   "execution_count": null,
   "id": "dd59bd1f-b572-453a-874d-6ca27165caab",
   "metadata": {},
   "outputs": [],
   "source": [
    "# Data Transformation\n",
    "transform = transforms.Compose([\n",
    "    transforms.toTensor(), # convert images to pytorch tensors\n",
    "    transforms.normalize((0.5, 0.5, 0.5), (0.5, 0.5, 0.5))\n",
    "])"
   ]
  },
  {
   "cell_type": "code",
   "execution_count": null,
   "id": "746ecf5c-c814-4d89-b0a7-d15601674b77",
   "metadata": {},
   "outputs": [],
   "source": [
    "class BananaDataset(Dataset):\n",
    "    def __init__(self, data_dir transform=None):\n",
    "        self.data_dir = data_dir\n",
    "        self.transform = transform"
   ]
  }
 ],
 "metadata": {
  "kernelspec": {
   "display_name": "Python 3 (ipykernel)",
   "language": "python",
   "name": "python3"
  },
  "language_info": {
   "codemirror_mode": {
    "name": "ipython",
    "version": 3
   },
   "file_extension": ".py",
   "mimetype": "text/x-python",
   "name": "python",
   "nbconvert_exporter": "python",
   "pygments_lexer": "ipython3",
   "version": "3.13.2"
  }
 },
 "nbformat": 4,
 "nbformat_minor": 5
}
